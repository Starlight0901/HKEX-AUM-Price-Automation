{
  "nbformat": 4,
  "nbformat_minor": 0,
  "metadata": {
    "colab": {
      "provenance": []
    },
    "kernelspec": {
      "name": "python3",
      "display_name": "Python 3"
    },
    "language_info": {
      "name": "python"
    }
  },
  "cells": [
    {
      "cell_type": "code",
      "source": [
        "!pip install selenium"
      ],
      "metadata": {
        "colab": {
          "base_uri": "https://localhost:8080/"
        },
        "id": "YdCcNrRO0bxr",
        "outputId": "4dd86c1a-66b7-403a-82ec-0edfc23c36d5"
      },
      "execution_count": null,
      "outputs": [
        {
          "output_type": "stream",
          "name": "stdout",
          "text": [
            "Collecting selenium\n",
            "  Downloading selenium-4.24.0-py3-none-any.whl.metadata (7.1 kB)\n",
            "Requirement already satisfied: urllib3<3,>=1.26 in /usr/local/lib/python3.10/dist-packages (from urllib3[socks]<3,>=1.26->selenium) (2.0.7)\n",
            "Collecting trio~=0.17 (from selenium)\n",
            "  Downloading trio-0.26.2-py3-none-any.whl.metadata (8.6 kB)\n",
            "Collecting trio-websocket~=0.9 (from selenium)\n",
            "  Downloading trio_websocket-0.11.1-py3-none-any.whl.metadata (4.7 kB)\n",
            "Requirement already satisfied: certifi>=2021.10.8 in /usr/local/lib/python3.10/dist-packages (from selenium) (2024.8.30)\n",
            "Requirement already satisfied: typing_extensions~=4.9 in /usr/local/lib/python3.10/dist-packages (from selenium) (4.12.2)\n",
            "Requirement already satisfied: websocket-client~=1.8 in /usr/local/lib/python3.10/dist-packages (from selenium) (1.8.0)\n",
            "Requirement already satisfied: attrs>=23.2.0 in /usr/local/lib/python3.10/dist-packages (from trio~=0.17->selenium) (24.2.0)\n",
            "Requirement already satisfied: sortedcontainers in /usr/local/lib/python3.10/dist-packages (from trio~=0.17->selenium) (2.4.0)\n",
            "Requirement already satisfied: idna in /usr/local/lib/python3.10/dist-packages (from trio~=0.17->selenium) (3.10)\n",
            "Collecting outcome (from trio~=0.17->selenium)\n",
            "  Downloading outcome-1.3.0.post0-py2.py3-none-any.whl.metadata (2.6 kB)\n",
            "Requirement already satisfied: sniffio>=1.3.0 in /usr/local/lib/python3.10/dist-packages (from trio~=0.17->selenium) (1.3.1)\n",
            "Requirement already satisfied: exceptiongroup in /usr/local/lib/python3.10/dist-packages (from trio~=0.17->selenium) (1.2.2)\n",
            "Collecting wsproto>=0.14 (from trio-websocket~=0.9->selenium)\n",
            "  Downloading wsproto-1.2.0-py3-none-any.whl.metadata (5.6 kB)\n",
            "Requirement already satisfied: pysocks!=1.5.7,<2.0,>=1.5.6 in /usr/local/lib/python3.10/dist-packages (from urllib3[socks]<3,>=1.26->selenium) (1.7.1)\n",
            "Collecting h11<1,>=0.9.0 (from wsproto>=0.14->trio-websocket~=0.9->selenium)\n",
            "  Downloading h11-0.14.0-py3-none-any.whl.metadata (8.2 kB)\n",
            "Downloading selenium-4.24.0-py3-none-any.whl (9.6 MB)\n",
            "\u001b[2K   \u001b[90m━━━━━━━━━━━━━━━━━━━━━━━━━━━━━━━━━━━━━━━━\u001b[0m \u001b[32m9.6/9.6 MB\u001b[0m \u001b[31m49.6 MB/s\u001b[0m eta \u001b[36m0:00:00\u001b[0m\n",
            "\u001b[?25hDownloading trio-0.26.2-py3-none-any.whl (475 kB)\n",
            "\u001b[2K   \u001b[90m━━━━━━━━━━━━━━━━━━━━━━━━━━━━━━━━━━━━━━━━\u001b[0m \u001b[32m476.0/476.0 kB\u001b[0m \u001b[31m22.1 MB/s\u001b[0m eta \u001b[36m0:00:00\u001b[0m\n",
            "\u001b[?25hDownloading trio_websocket-0.11.1-py3-none-any.whl (17 kB)\n",
            "Downloading wsproto-1.2.0-py3-none-any.whl (24 kB)\n",
            "Downloading outcome-1.3.0.post0-py2.py3-none-any.whl (10 kB)\n",
            "Downloading h11-0.14.0-py3-none-any.whl (58 kB)\n",
            "\u001b[2K   \u001b[90m━━━━━━━━━━━━━━━━━━━━━━━━━━━━━━━━━━━━━━━━\u001b[0m \u001b[32m58.3/58.3 kB\u001b[0m \u001b[31m3.0 MB/s\u001b[0m eta \u001b[36m0:00:00\u001b[0m\n",
            "\u001b[?25hInstalling collected packages: outcome, h11, wsproto, trio, trio-websocket, selenium\n",
            "Successfully installed h11-0.14.0 outcome-1.3.0.post0 selenium-4.24.0 trio-0.26.2 trio-websocket-0.11.1 wsproto-1.2.0\n"
          ]
        }
      ]
    },
    {
      "cell_type": "code",
      "source": [
        "!pip install snowflake-connector-python"
      ],
      "metadata": {
        "colab": {
          "base_uri": "https://localhost:8080/"
        },
        "id": "HQ3rm4Jg0lJw",
        "outputId": "923e26b7-d2ad-4687-b0eb-4029a8ba1237"
      },
      "execution_count": null,
      "outputs": [
        {
          "output_type": "stream",
          "name": "stdout",
          "text": [
            "Collecting snowflake-connector-python\n",
            "  Downloading snowflake_connector_python-3.12.2-cp310-cp310-manylinux_2_17_x86_64.manylinux2014_x86_64.whl.metadata (65 kB)\n",
            "\u001b[?25l     \u001b[90m━━━━━━━━━━━━━━━━━━━━━━━━━━━━━━━━━━━━━━━━\u001b[0m \u001b[32m0.0/65.3 kB\u001b[0m \u001b[31m?\u001b[0m eta \u001b[36m-:--:--\u001b[0m\r\u001b[2K     \u001b[91m━━━━━━━━━━━━━━━━━━━━━━━━━━━━━━━━━━━━━\u001b[0m\u001b[91m╸\u001b[0m\u001b[90m━━\u001b[0m \u001b[32m61.4/65.3 kB\u001b[0m \u001b[31m1.6 MB/s\u001b[0m eta \u001b[36m0:00:01\u001b[0m\r\u001b[2K     \u001b[90m━━━━━━━━━━━━━━━━━━━━━━━━━━━━━━━━━━━━━━━━\u001b[0m \u001b[32m65.3/65.3 kB\u001b[0m \u001b[31m1.2 MB/s\u001b[0m eta \u001b[36m0:00:00\u001b[0m\n",
            "\u001b[?25hCollecting asn1crypto<2.0.0,>0.24.0 (from snowflake-connector-python)\n",
            "  Downloading asn1crypto-1.5.1-py2.py3-none-any.whl.metadata (13 kB)\n",
            "Requirement already satisfied: cffi<2.0.0,>=1.9 in /usr/local/lib/python3.10/dist-packages (from snowflake-connector-python) (1.17.1)\n",
            "Requirement already satisfied: cryptography>=3.1.0 in /usr/local/lib/python3.10/dist-packages (from snowflake-connector-python) (43.0.1)\n",
            "Requirement already satisfied: pyOpenSSL<25.0.0,>=16.2.0 in /usr/local/lib/python3.10/dist-packages (from snowflake-connector-python) (24.2.1)\n",
            "Requirement already satisfied: pyjwt<3.0.0 in /usr/local/lib/python3.10/dist-packages (from snowflake-connector-python) (2.9.0)\n",
            "Requirement already satisfied: pytz in /usr/local/lib/python3.10/dist-packages (from snowflake-connector-python) (2024.2)\n",
            "Requirement already satisfied: requests<3.0.0 in /usr/local/lib/python3.10/dist-packages (from snowflake-connector-python) (2.32.3)\n",
            "Requirement already satisfied: packaging in /usr/local/lib/python3.10/dist-packages (from snowflake-connector-python) (24.1)\n",
            "Requirement already satisfied: charset-normalizer<4,>=2 in /usr/local/lib/python3.10/dist-packages (from snowflake-connector-python) (3.3.2)\n",
            "Requirement already satisfied: idna<4,>=2.5 in /usr/local/lib/python3.10/dist-packages (from snowflake-connector-python) (3.10)\n",
            "Requirement already satisfied: certifi>=2017.4.17 in /usr/local/lib/python3.10/dist-packages (from snowflake-connector-python) (2024.8.30)\n",
            "Requirement already satisfied: typing-extensions<5,>=4.3 in /usr/local/lib/python3.10/dist-packages (from snowflake-connector-python) (4.12.2)\n",
            "Requirement already satisfied: filelock<4,>=3.5 in /usr/local/lib/python3.10/dist-packages (from snowflake-connector-python) (3.16.0)\n",
            "Requirement already satisfied: sortedcontainers>=2.4.0 in /usr/local/lib/python3.10/dist-packages (from snowflake-connector-python) (2.4.0)\n",
            "Requirement already satisfied: platformdirs<5.0.0,>=2.6.0 in /usr/local/lib/python3.10/dist-packages (from snowflake-connector-python) (4.3.4)\n",
            "Collecting tomlkit (from snowflake-connector-python)\n",
            "  Downloading tomlkit-0.13.2-py3-none-any.whl.metadata (2.7 kB)\n",
            "Requirement already satisfied: pycparser in /usr/local/lib/python3.10/dist-packages (from cffi<2.0.0,>=1.9->snowflake-connector-python) (2.22)\n",
            "Requirement already satisfied: urllib3<3,>=1.21.1 in /usr/local/lib/python3.10/dist-packages (from requests<3.0.0->snowflake-connector-python) (2.0.7)\n",
            "Downloading snowflake_connector_python-3.12.2-cp310-cp310-manylinux_2_17_x86_64.manylinux2014_x86_64.whl (2.5 MB)\n",
            "\u001b[2K   \u001b[90m━━━━━━━━━━━━━━━━━━━━━━━━━━━━━━━━━━━━━━━━\u001b[0m \u001b[32m2.5/2.5 MB\u001b[0m \u001b[31m19.3 MB/s\u001b[0m eta \u001b[36m0:00:00\u001b[0m\n",
            "\u001b[?25hDownloading asn1crypto-1.5.1-py2.py3-none-any.whl (105 kB)\n",
            "\u001b[2K   \u001b[90m━━━━━━━━━━━━━━━━━━━━━━━━━━━━━━━━━━━━━━━━\u001b[0m \u001b[32m105.0/105.0 kB\u001b[0m \u001b[31m6.9 MB/s\u001b[0m eta \u001b[36m0:00:00\u001b[0m\n",
            "\u001b[?25hDownloading tomlkit-0.13.2-py3-none-any.whl (37 kB)\n",
            "Installing collected packages: asn1crypto, tomlkit, snowflake-connector-python\n",
            "Successfully installed asn1crypto-1.5.1 snowflake-connector-python-3.12.2 tomlkit-0.13.2\n"
          ]
        }
      ]
    },
    {
      "cell_type": "code",
      "source": [
        "!pip install bs4"
      ],
      "metadata": {
        "colab": {
          "base_uri": "https://localhost:8080/"
        },
        "id": "2TglWINe0m3c",
        "outputId": "c7d59417-0456-41c4-9cc2-8613d1950d5d"
      },
      "execution_count": null,
      "outputs": [
        {
          "output_type": "stream",
          "name": "stdout",
          "text": [
            "Collecting bs4\n",
            "  Downloading bs4-0.0.2-py2.py3-none-any.whl.metadata (411 bytes)\n",
            "Requirement already satisfied: beautifulsoup4 in /usr/local/lib/python3.10/dist-packages (from bs4) (4.12.3)\n",
            "Requirement already satisfied: soupsieve>1.2 in /usr/local/lib/python3.10/dist-packages (from beautifulsoup4->bs4) (2.6)\n",
            "Downloading bs4-0.0.2-py2.py3-none-any.whl (1.2 kB)\n",
            "Installing collected packages: bs4\n",
            "Successfully installed bs4-0.0.2\n"
          ]
        }
      ]
    },
    {
      "cell_type": "code",
      "source": [
        "!pip install lxml"
      ],
      "metadata": {
        "colab": {
          "base_uri": "https://localhost:8080/"
        },
        "id": "qqzKA0fN0o5e",
        "outputId": "9ee17500-1949-4297-b339-ed9d7e7d2b37"
      },
      "execution_count": null,
      "outputs": [
        {
          "output_type": "stream",
          "name": "stdout",
          "text": [
            "Requirement already satisfied: lxml in /usr/local/lib/python3.10/dist-packages (4.9.4)\n"
          ]
        }
      ]
    },
    {
      "cell_type": "code",
      "execution_count": null,
      "metadata": {
        "id": "rTDrMmplzaLB"
      },
      "outputs": [],
      "source": [
        "import requests\n",
        "from bs4 import BeautifulSoup\n",
        "from datetime import datetime\n",
        "from snowflake.connector import connect\n",
        "from selenium import webdriver\n",
        "from selenium.webdriver.chrome.options import Options\n",
        "import time"
      ]
    },
    {
      "cell_type": "markdown",
      "source": [
        "## **Scrape Bosera data (9008)**"
      ],
      "metadata": {
        "id": "VrMKmQlp0-a4"
      }
    },
    {
      "cell_type": "code",
      "source": [
        "def fetch_and_store_9008():\n",
        "\n",
        "    # Selenium setup\n",
        "    chrome_options = Options()\n",
        "    chrome_options.add_argument(\"--headless\")\n",
        "    chrome_options.add_argument(\"--no-sandbox\")\n",
        "    chrome_options.add_argument(\"--disable-dev-shm-usage\")\n",
        "\n",
        "    driver = webdriver.Chrome(options=chrome_options)\n",
        "\n",
        "    # Navigate to the URL\n",
        "    url_9008 = 'https://www.bosera.com.hk/en-US/products/fund/detail/BTCL'\n",
        "    driver.get(url_9008)\n",
        "    time.sleep(5)\n",
        "\n",
        "    # Get page source after JavaScript has executed\n",
        "    html = driver.page_source\n",
        "    soup_9008 = BeautifulSoup(html, 'lxml')\n",
        "\n",
        "    # Close the Selenium driver\n",
        "    driver.quit()\n",
        "\n",
        "    # Extract BTC Holdings\n",
        "    all_tds_9008 = soup_9008.find_all('td', {'class': 'ant-table-cell'})\n",
        "    btc_holdings_9008 = all_tds_9008[146].get_text(strip=True)\n",
        "    btc_holdings_9008 = float(btc_holdings_9008.replace(',', ''))\n",
        "\n",
        "    # Extract the date\n",
        "    date_9008 = all_tds_9008[1].get_text(strip=True)\n",
        "    date_9008 = datetime.strptime(date_9008, '%d/%m/%Y')\n",
        "    date_9008 = date_9008.strftime('%Y-%m-%d')\n",
        "\n",
        "    # Store data in Snowflake\n",
        "    store_data_in_snowflake(date_9008, btc_holdings_9008, '9008')\n"
      ],
      "metadata": {
        "id": "awhQdQeBzljA"
      },
      "execution_count": null,
      "outputs": []
    },
    {
      "cell_type": "markdown",
      "source": [
        "## **Scrape ChinaAMC data (9042)**"
      ],
      "metadata": {
        "id": "azQRS9gX1KzG"
      }
    },
    {
      "cell_type": "code",
      "source": [
        "def fetch_and_store_9042():\n",
        "\n",
        "    # Selenium setup\n",
        "    chrome_options = Options()\n",
        "    chrome_options.add_argument(\"--headless\")\n",
        "    chrome_options.add_argument(\"--no-sandbox\")\n",
        "    chrome_options.add_argument(\"--disable-dev-shm-usage\")\n",
        "\n",
        "    driver = webdriver.Chrome(options=chrome_options)\n",
        "\n",
        "    # Navigate to the URL\n",
        "    url_9042 = 'https://www.chinaamc.com.hk/product/chinaamc-bitcoin-etf/#Holdings'\n",
        "    driver.get(url_9042)\n",
        "    time.sleep(5)\n",
        "\n",
        "    # Get page source after JavaScript has executed\n",
        "    html = driver.page_source\n",
        "    soup_9042 = BeautifulSoup(html, 'lxml')\n",
        "\n",
        "    # Close the Selenium driver\n",
        "    driver.quit()\n",
        "\n",
        "    # Net Asset Value (mil)\n",
        "    table_nav = soup_9042.find('table', {'class': 'amc-table fund-overview'})\n",
        "    rows_nav = table_nav.find_all('tr')\n",
        "    nav = None\n",
        "    for row in rows_nav:\n",
        "        cells = row.find_all('td')\n",
        "        if 'Net Asset Value (mil)' in cells[0].get_text(strip=True):\n",
        "            nav = cells[1].get_text(strip=True)\n",
        "            break\n",
        "    nav = float(nav.replace(',', '')) * 1000000\n",
        "\n",
        "    # Closing Level\n",
        "    table_cl = soup_9042.find('table', {'class': 'amc-table index-information'})\n",
        "    rows_cl = table_cl.find_all('tr')\n",
        "    closing_level = None\n",
        "    for row in rows_cl:\n",
        "        cells = row.find_all('td')\n",
        "        if 'Closing Level' in cells[0].get_text(strip=True):\n",
        "            closing_level = cells[1].get_text(strip=True)\n",
        "            break\n",
        "    closing_level = float(closing_level.replace(',', ''))\n",
        "\n",
        "    # Weighting %\n",
        "    tables = soup_9042.find_all('table', {'class': 'amc-table'})\n",
        "    table_w = tables[7]\n",
        "    rows_w = table_w.find_all('tr')\n",
        "    weighting = None\n",
        "    for row_w in rows_w:\n",
        "        cells_w = row_w.find_all('td')\n",
        "        if cells_w and 'VA BITCOIN CURRENCY' in cells_w[0].get_text(strip=True):\n",
        "            weighting = cells_w[1].get_text(strip=True)\n",
        "            break\n",
        "    weighting = float(weighting)\n",
        "\n",
        "    # Calculate BTC Holdings\n",
        "    btc_holdings_9042 = (nav * weighting / 100) / closing_level\n",
        "\n",
        "    # Extract the date\n",
        "    all_ps_9042 = soup_9042.find_all('p', {'class': 'as-of-date'})\n",
        "    date_9042 = all_ps_9042[1].get_text(strip=True).replace('As of ', '')\n",
        "    date_9042 = datetime.strptime(date_9042, '%d-%m-%Y').strftime('%Y-%m-%d')\n",
        "\n",
        "    # Store data in Snowflake\n",
        "    store_data_in_snowflake(date_9042, btc_holdings_9042, '9042')\n"
      ],
      "metadata": {
        "id": "KwqI7PrpztP-"
      },
      "execution_count": null,
      "outputs": []
    },
    {
      "cell_type": "markdown",
      "source": [
        "## **Scrape and calculate Harvest data (9439)**   "
      ],
      "metadata": {
        "id": "EEZqsMiU1dML"
      }
    },
    {
      "cell_type": "code",
      "source": [
        "def fetch_and_store_9439():\n",
        "\n",
        "    # Step 1: Fetch the BTC price from BOS bitcoin\n",
        "    url_9008 = 'https://www.bosera.com.hk/en-US/products/fund/detail/BTCL'\n",
        "    response_9008 = requests.get(url_9008)\n",
        "    soup_9008 = BeautifulSoup(response_9008.content, 'lxml')\n",
        "\n",
        "    # Locate the price\n",
        "    all_tds_9008 = soup_9008.find_all('td', {'class': 'ant-table-cell'})\n",
        "    price = all_tds_9008[144].get_text(strip=True)\n",
        "    price = float(price.replace(',', ''))\n",
        "\n",
        "    # Step 2: Use Selenium to fetch AUM data from HKEX\n",
        "    chrome_options = Options()\n",
        "    chrome_options.add_argument(\"--headless\")\n",
        "    chrome_options.add_argument(\"--no-sandbox\")\n",
        "    chrome_options.add_argument(\"--disable-dev-shm-usage\")\n",
        "    driver = webdriver.Chrome(options=chrome_options)\n",
        "\n",
        "    url_9439 = \"https://www.hkex.com.hk/Market-Data/Securities-Prices/Exchange-Traded-Products/Exchange-Traded-Products-Quote?sym=9439&sc_lang=en\"\n",
        "    driver.get(url_9439)\n",
        "    time.sleep(5)\n",
        "    html = driver.page_source\n",
        "    soup = BeautifulSoup(html, 'html.parser')\n",
        "\n",
        "    # Find the AUM element\n",
        "    aum_element_9439 = soup.find('dt', {'class': 'ico_data col_aum'})\n",
        "    aum_9439 = aum_element_9439.text.strip() if aum_element_9439 else \"N/A\"\n",
        "\n",
        "    # Extract and convert AUM to float\n",
        "    if aum_9439 != \"N/A\":\n",
        "        aum_9439 = aum_9439[3:]  # Remove \"US$\"\n",
        "        aum_9439 = float(aum_9439[:-1].replace(',', '')) * 1000000\n",
        "\n",
        "    driver.quit()\n",
        "\n",
        "    # Calculate BTC Holdings\n",
        "    btc_holdings_9439 = aum_9439 / price if price != 0 else 0\n",
        "\n",
        "    # Step 3: Scrape and format the date\n",
        "    date_9439_element = soup.find('dt', {'class': 'ico_data col_aum_date'})\n",
        "    date_9439 = date_9439_element.text.strip() if date_9439_element else \"N/A\"\n",
        "\n",
        "    if date_9439 != \"N/A\":\n",
        "        date_9439 = date_9439.replace('as at ', '').replace('(', '').replace(')', '').strip()\n",
        "        date_9439 = datetime.strptime(date_9439, '%d %b %Y').strftime('%Y-%m-%d')\n",
        "\n",
        "    # Step 4: Store the data in Snowflake\n",
        "    store_data_in_snowflake(date_9439, btc_holdings_9439, '9439')\n"
      ],
      "metadata": {
        "id": "bhFvFNkwz3Mc"
      },
      "execution_count": null,
      "outputs": []
    },
    {
      "cell_type": "markdown",
      "source": [
        "## **Get the price from the bosera website**"
      ],
      "metadata": {
        "id": "Im58XkMa1pGD"
      }
    },
    {
      "cell_type": "code",
      "source": [
        "def fetch_price():\n",
        "    # Selenium setup\n",
        "    chrome_options = Options()\n",
        "    chrome_options.add_argument(\"--headless\")\n",
        "    chrome_options.add_argument(\"--no-sandbox\")\n",
        "    chrome_options.add_argument(\"--disable-dev-shm-usage\")\n",
        "\n",
        "    driver = webdriver.Chrome(options=chrome_options)\n",
        "\n",
        "    # Navigate to the URL\n",
        "    url_9008 = 'https://www.bosera.com.hk/en-US/products/fund/detail/BTCL'\n",
        "    driver.get(url_9008)\n",
        "    time.sleep(5)\n",
        "\n",
        "    # Get page source after JavaScript has executed\n",
        "    html = driver.page_source\n",
        "    soup_9008 = BeautifulSoup(html, 'lxml')\n",
        "\n",
        "    # Close the Selenium driver\n",
        "    driver.quit()\n",
        "\n",
        "    # Extract the price\n",
        "    all_tds_9008 = soup_9008.find_all('td', {'class': 'ant-table-cell'})\n",
        "    price = all_tds_9008[144].get_text(strip=True)\n",
        "    price = float(price.replace(',', ''))\n",
        "\n",
        "    # Extract the date\n",
        "    price_date = all_tds_9008[1].get_text(strip=True)\n",
        "    price_date = datetime.strptime(price_date, '%d/%m/%Y').strftime('%Y-%m-%d')\n",
        "\n",
        "    return price_date, price\n"
      ],
      "metadata": {
        "id": "Bqe9c60oz-gK"
      },
      "execution_count": null,
      "outputs": []
    },
    {
      "cell_type": "markdown",
      "source": [
        "## **Store bitcoin holding data in Database**"
      ],
      "metadata": {
        "id": "NzY-QWtK1z6i"
      }
    },
    {
      "cell_type": "code",
      "source": [
        "def store_data_in_snowflake(date, btc_holdings, etf):\n",
        "    # Connect to Snowflake\n",
        "    conn = connect(\n",
        "        user='SQRR',\n",
        "        password='Panama9-Latticed8-Chamomile5-Scary3-Krypton9',\n",
        "        account='tlnygtx-hc90982',\n",
        "        database='HKEX',\n",
        "        schema='HKEX'\n",
        "    )\n",
        "\n",
        "    try:\n",
        "        # Create a cursor object\n",
        "        cursor = conn.cursor()\n",
        "\n",
        "        # Create table if it does not exist\n",
        "        cursor.execute(\"\"\"\n",
        "        CREATE TABLE IF NOT EXISTS BTC_HOLDINGS (\n",
        "            Date DATE PRIMARY KEY,\n",
        "            btc_holdings_9008 FLOAT,\n",
        "            inflow_outflow_9008 FLOAT,\n",
        "            value_9008 FLOAT,\n",
        "            btc_holdings_9042 FLOAT,\n",
        "            inflow_outflow_9042 FLOAT,\n",
        "            value_9042 FLOAT,\n",
        "            btc_holdings_9439 FLOAT,\n",
        "            inflow_outflow_9439 FLOAT,\n",
        "            value_9439 FLOAT,\n",
        "            price FLOAT\n",
        "        )\n",
        "        \"\"\")\n",
        "\n",
        "        # Check if the record already exists for the date\n",
        "        cursor.execute(\"SELECT * FROM BTC_HOLDINGS WHERE Date = %s\", (date,))\n",
        "        existing_row = cursor.fetchone()\n",
        "\n",
        "        # Fetch the previous date's holdings for the ETF\n",
        "        cursor.execute(f\"\"\"\n",
        "        SELECT btc_holdings_{etf} FROM BTC_HOLDINGS\n",
        "        WHERE Date < %s ORDER BY Date DESC LIMIT 1\n",
        "        \"\"\", (date,))\n",
        "        previous_row = cursor.fetchone()\n",
        "\n",
        "        previous_holdings = previous_row[0] if previous_row else 0\n",
        "\n",
        "        # Calculate inflow/outflow\n",
        "        inflow_outflow = btc_holdings - previous_holdings\n",
        "\n",
        "        if not existing_row:\n",
        "            # Insert a new row with BTC holdings and inflow/outflow\n",
        "            cursor.execute(f\"\"\"\n",
        "            INSERT INTO BTC_HOLDINGS (Date, btc_holdings_{etf}, inflow_outflow_{etf})\n",
        "            VALUES (%s, %s, %s)\n",
        "            \"\"\", (date, btc_holdings, inflow_outflow))\n",
        "        else:\n",
        "            # Update the existing row with new BTC holdings and inflow/outflow\n",
        "            cursor.execute(f\"\"\"\n",
        "            UPDATE BTC_HOLDINGS\n",
        "            SET btc_holdings_{etf} = %s, inflow_outflow_{etf} = %s\n",
        "            WHERE Date = %s\n",
        "            \"\"\", (btc_holdings, inflow_outflow, date))\n",
        "\n",
        "        # Commit the transaction\n",
        "        conn.commit()\n",
        "\n",
        "    except Exception as e:\n",
        "        print(f\"Error: {str(e)}\")\n",
        "    finally:\n",
        "        # Close the cursor and connection\n",
        "        cursor.close()\n",
        "        conn.close()\n"
      ],
      "metadata": {
        "id": "jhPAJhE40DOs"
      },
      "execution_count": null,
      "outputs": []
    },
    {
      "cell_type": "markdown",
      "source": [
        "## **Store price data in Database**"
      ],
      "metadata": {
        "id": "eToWkfb32H2G"
      }
    },
    {
      "cell_type": "code",
      "source": [
        "# In[7]:\n",
        "\n",
        "\n",
        "def store_price_in_snowflake(price_date, price):\n",
        "    # Connect to Snowflake\n",
        "    conn = connect(\n",
        "        user='SQRR',\n",
        "        password='Panama9-Latticed8-Chamomile5-Scary3-Krypton9',\n",
        "        account='tlnygtx-hc90982',\n",
        "        database='HKEX',\n",
        "        schema='HKEX'\n",
        "    )\n",
        "\n",
        "    try:\n",
        "        # Create a cursor object\n",
        "        cursor = conn.cursor()\n",
        "\n",
        "        # Update the existing record with the price where the date matches\n",
        "        cursor.execute(\"\"\"\n",
        "        UPDATE BTC_HOLDINGS\n",
        "        SET price = %s\n",
        "        WHERE Date = %s\n",
        "        \"\"\", (price, price_date))\n",
        "\n",
        "        # Commit the transaction\n",
        "        conn.commit()\n",
        "\n",
        "    except Exception as e:\n",
        "        print(f\"Error: {str(e)}\")\n",
        "    finally:\n",
        "        # Close the cursor and connection\n",
        "        cursor.close()\n",
        "        conn.close()"
      ],
      "metadata": {
        "id": "68nxAu4e0JlS"
      },
      "execution_count": null,
      "outputs": []
    },
    {
      "cell_type": "markdown",
      "source": [
        "## **Update the dollar values in the database**"
      ],
      "metadata": {
        "id": "tov_w4x42Vx-"
      }
    },
    {
      "cell_type": "code",
      "source": [
        "def update_dollar_values(price_date):\n",
        "    # Connect to Snowflake\n",
        "    conn = connect(\n",
        "        user='SQRR',\n",
        "        password='Panama9-Latticed8-Chamomile5-Scary3-Krypton9',\n",
        "        account='tlnygtx-hc90982',\n",
        "        database='HKEX',\n",
        "        schema='HKEX'\n",
        "    )\n",
        "\n",
        "    try:\n",
        "        # Create a cursor object\n",
        "        cursor = conn.cursor()\n",
        "\n",
        "        # Update value columns with calculated dollar values\n",
        "        cursor.execute(\"\"\"\n",
        "        UPDATE BTC_HOLDINGS\n",
        "        SET\n",
        "            value_9008 = inflow_outflow_9008 * price,\n",
        "            value_9042 = inflow_outflow_9042 * price,\n",
        "        WHERE inflow_outflow_9008 IS NOT NULL\n",
        "           OR inflow_outflow_9042 IS NOT NULL\n",
        "        \"\"\")\n",
        "\n",
        "        cursor.execute(\"\"\"\n",
        "        UPDATE BTC_HOLDINGS\n",
        "        SET\n",
        "            value_9439 = inflow_outflow_9439 * price\n",
        "        WHERE inflow_outflow_9439 IS NOT NULL\n",
        "           AND price_date == Date\n",
        "        \"\"\")\n",
        "\n",
        "        # Commit the transaction\n",
        "        conn.commit()\n",
        "\n",
        "    except Exception as e:\n",
        "        print(f\"Error: {str(e)}\")\n",
        "    finally:\n",
        "        # Close the cursor and connection\n",
        "        cursor.close()\n",
        "        conn.close()\n"
      ],
      "metadata": {
        "id": "DHq7Oe2j0Nsp"
      },
      "execution_count": null,
      "outputs": []
    },
    {
      "cell_type": "markdown",
      "source": [
        "## **Run Functions**"
      ],
      "metadata": {
        "id": "lMKOziht2c-n"
      }
    },
    {
      "cell_type": "code",
      "source": [
        "fetch_and_store_9008()\n",
        "\n",
        "fetch_and_store_9042()\n",
        "\n",
        "fetch_and_store_9439()\n",
        "\n",
        "price_date, price = fetch_price()\n",
        "store_price_in_snowflake(price_date, price)\n",
        "\n",
        "# Call this function at the end\n",
        "update_dollar_values(price_date)\n"
      ],
      "metadata": {
        "id": "ePUjBbJx0Qqa"
      },
      "execution_count": null,
      "outputs": []
    },
    {
      "cell_type": "code",
      "source": [],
      "metadata": {
        "id": "hnH63qDv2nlj"
      },
      "execution_count": null,
      "outputs": []
    }
  ]
}